{
 "cells": [
  {
   "cell_type": "code",
   "execution_count": null,
   "metadata": {},
   "outputs": [],
   "source": [
    "import plotly.io as pio\n",
    "pio.renderers.default='notebook'\n",
    "import plotly.express as px\n",
    "import plotly.graph_objs as go\n",
    "import plotly.figure_factory as ff\n",
    "import pandas as pd\n",
    "import numpy as np\n",
    "from datetime import datetime\n",
    "import seaborn as sns\n",
    "from Bio import SeqIO\n",
    "from collections import OrderedDict\n",
    "import statsmodels.api as sm\n",
    "import os"
   ]
  },
  {
   "cell_type": "code",
   "execution_count": null,
   "metadata": {},
   "outputs": [],
   "source": [
    "# inputs\n",
    "pipeline = \"<PIPELINE>\"\n",
    "conf = \"<CONF>\"\n",
    "pav_tsv = \"<PAV_TSV>\"\n",
    "stepwise_file = \"<SYEPWISE_TSV>\"\n",
    "ref_name = \"<REF_NAME>\"\n",
    "proteins_fasta = \"<PROT_FASTA>\"\n",
    "assembly_stats_tsv = \"<STATS_TSV>\""
   ]
  },
  {
   "cell_type": "markdown",
   "metadata": {},
   "source": [
    "# Pan genome report\n",
    "**note**: all plots are interactive - you can pan, zoom, hover to get additional information and change the display by clicking legend items."
   ]
  },
  {
   "cell_type": "code",
   "execution_count": null,
   "metadata": {
    "scrolled": true
   },
   "outputs": [],
   "source": [
    "now = datetime.now().strftime(\"%d/%m/%Y %H:%M:%S\")\n",
    "print(\"Report generated with pipeline: %s\" % pipeline)\n",
    "print(\"Using configuration: %s\" % conf)\n",
    "print(\"Report created %s\" % now)\n",
    "print(\"Inputs:\")\n",
    "print(\"PAV tsv: %s\" % pav_tsv)\n",
    "print(\"Stepwise data: %s\" % stepwise_file)\n",
    "print(\"Reference name: %s\" % ref_name)\n",
    "print(\"Pan proteome fasta: %s\" % proteins_fasta)\n",
    "print(\"Assembly stats tsv: %s\" % assembly_stats_tsv)"
   ]
  },
  {
   "cell_type": "markdown",
   "metadata": {},
   "source": [
    "## General stats"
   ]
  },
  {
   "cell_type": "code",
   "execution_count": null,
   "metadata": {
    "scrolled": true
   },
   "outputs": [],
   "source": [
    "pav_df = pd.read_csv(pav_tsv, sep='\\t', index_col=0)\n",
    "n_samples = pav_df.shape[1]\n",
    "n_genes = pav_df.shape[0]"
   ]
  },
  {
   "cell_type": "code",
   "execution_count": null,
   "metadata": {},
   "outputs": [],
   "source": [
    "occupancy_df = pd.DataFrame(pav_df.sum(axis=1))\n",
    "occupancy_df.columns = [\"occupancy\"]\n",
    "occupancy_df = occupancy_df.loc[occupancy_df[\"occupancy\"] > 0]\n",
    "def category_by_occupancy(occup, core):\n",
    "    if occup == core:\n",
    "        return \"Core\"\n",
    "    elif occup > 1:\n",
    "        return \"Shell\"\n",
    "    else:\n",
    "        return \"Singleton\"\n",
    "\n",
    "occupancy_df[\"category\"] = occupancy_df[\"occupancy\"].map( lambda x: category_by_occupancy(x, n_samples))"
   ]
  },
  {
   "cell_type": "code",
   "execution_count": null,
   "metadata": {},
   "outputs": [],
   "source": [
    "occup_cat = occupancy_df.groupby(\"category\").count()\n",
    "occup_cat.columns = [\"genes\"]"
   ]
  },
  {
   "cell_type": "code",
   "execution_count": null,
   "metadata": {},
   "outputs": [],
   "source": [
    "ref_or_not = pd.DataFrame(pav_df[ref_name].map({1: \"Reference\", 0: \"Non-reference\"}))\n",
    "ref_or_not.columns = [\"Type\"]\n",
    "ref_or_not_cat = pd.DataFrame(ref_or_not[\"Type\"].value_counts())\n",
    "ref_or_not_cat.columns = [\"genes\"]"
   ]
  },
  {
   "cell_type": "code",
   "execution_count": null,
   "metadata": {},
   "outputs": [],
   "source": [
    "print(\"Samples in pan-genome: %s\" % n_samples)\n",
    "print(\"Pan-genes in pan-genome: %s\" % n_genes)\n",
    "core = occup_cat['genes']['Core']\n",
    "shell = occup_cat['genes']['Shell']\n",
    "sing = occup_cat['genes']['Singleton']\n",
    "print(\"Core pan-genes: %s (%s%%)\" %(core, core/n_genes*100))\n",
    "print(\"Shell pan-genes: %s (%s%%)\" %(shell, shell/n_genes*100))\n",
    "print(\"Singleton pan-genes: %s (%s%%)\" %(sing, sing/n_genes*100))\n",
    "ref = ref_or_not_cat['genes']['Reference']\n",
    "non_ref = ref_or_not_cat['genes']['Non-reference']\n",
    "print(\"Reference pan-genes: %s (%s%%)\" %(ref, ref/n_genes*100))\n",
    "print(\"Non-reference pan-genes: %s (%s%%)\" %(non_ref, non_ref/n_genes*100))"
   ]
  },
  {
   "cell_type": "markdown",
   "metadata": {},
   "source": [
    "## Stepwise sample addition analysis\n",
    "Samples are added one by one and the number of total genes, core genes and singletons is calculated at each step. The process is repeated 100 times with randomly-chosen sample orders. Lines represent the mean number of genes at each step across the 100 orders. Bands around the lines represent min and max number of genes across the 100 orders."
   ]
  },
  {
   "cell_type": "code",
   "execution_count": null,
   "metadata": {
    "scrolled": true
   },
   "outputs": [],
   "source": [
    "stepwise_df = pd.read_csv(stepwise_file, sep='\\t')"
   ]
  },
  {
   "cell_type": "code",
   "execution_count": null,
   "metadata": {},
   "outputs": [],
   "source": [
    "stepwise_mean = stepwise_df.groupby([\"n_samples\", \"stat\"]).mean()\n",
    "stepwise_min = stepwise_df.groupby([\"n_samples\", \"stat\"]).min()\n",
    "stepwise_max = stepwise_df.groupby([\"n_samples\", \"stat\"]).max()"
   ]
  },
  {
   "cell_type": "code",
   "execution_count": null,
   "metadata": {},
   "outputs": [],
   "source": [
    "n_all_samples = max(stepwise_df[\"n_samples\"])\n",
    "x = list(range(1,n_all_samples+1))\n",
    "x_rev = x[::-1]\n",
    "\n",
    "core_max = list(stepwise_max.xs(\"Core genes\", level=\"stat\")[\"n_genes\"])\n",
    "core_min = list(stepwise_min.xs(\"Core genes\", level=\"stat\")[\"n_genes\"])\n",
    "core_min = core_min[::-1]\n",
    "core_mean = list(stepwise_mean.xs(\"Core genes\", level=\"stat\")[\"n_genes\"])\n",
    "\n",
    "tot_max = list(stepwise_max.xs(\"Total genes\", level=\"stat\")[\"n_genes\"])\n",
    "tot_min = list(stepwise_min.xs(\"Total genes\", level=\"stat\")[\"n_genes\"])\n",
    "tot_min = tot_min[::-1]\n",
    "tot_mean = list(stepwise_mean.xs(\"Total genes\", level=\"stat\")[\"n_genes\"])\n",
    "\n",
    "sing_max = list(stepwise_max.xs(\"Singletons\", level=\"stat\")[\"n_genes\"])\n",
    "sing_min = list(stepwise_min.xs(\"Singletons\", level=\"stat\")[\"n_genes\"])\n",
    "sing_min = sing_min[::-1]\n",
    "sing_mean = list(stepwise_mean.xs(\"Singletons\", level=\"stat\")[\"n_genes\"])\n",
    "sing_min[-1] = np.nan\n",
    "sing_max[0] = np.nan\n",
    "sing_mean[0] = np.nan\n",
    "\n",
    "fig = go.Figure(layout_title_text=\"Stepwise sample addition\",\n",
    "               layout_xaxis_title=\"# samples\",\n",
    "               layout_yaxis_title=\"# genes\")\n",
    "\n",
    "fig.add_trace(go.Scatter(\n",
    "    x=x+x_rev,\n",
    "    y=core_max+core_min,\n",
    "    fill='toself',\n",
    "    fillcolor='rgba(0,100,80,0.2)',\n",
    "    line_color='rgba(255,255,255,0)',\n",
    "    showlegend=True,\n",
    "    name='Core',\n",
    "))\n",
    "fig.add_trace(go.Scatter(\n",
    "    x=x, y=core_mean,\n",
    "    line_color='rgb(0,100,80)',\n",
    "    name='Core',\n",
    "))\n",
    "\n",
    "fig.add_trace(go.Scatter(\n",
    "    x=x+x_rev,\n",
    "    y=tot_max+tot_min,\n",
    "    fill='toself',\n",
    "    fillcolor='rgba(0,176,246,0.2)',\n",
    "    line_color='rgba(255,255,255,0)',\n",
    "    showlegend=True,\n",
    "    name='Total',\n",
    "))\n",
    "fig.add_trace(go.Scatter(\n",
    "    x=x, y=tot_mean,\n",
    "    line_color='rgb(0,176,246)',\n",
    "    name='Total',\n",
    "))\n",
    "\n",
    "fig.add_trace(go.Scatter(\n",
    "    x=x+x_rev,\n",
    "    y=sing_max+sing_min,\n",
    "    fill='toself',\n",
    "    fillcolor='rgba(231,107,243,0.2)',\n",
    "    line_color='rgba(255,255,255,0)',\n",
    "    showlegend=True,\n",
    "    name='Singletons',\n",
    "))\n",
    "fig.add_trace(go.Scatter(\n",
    "    x=x, y=sing_mean,\n",
    "    line_color='rgb(231,107,243)',\n",
    "    name='Singletons',\n",
    "))\n",
    "\n",
    "\n",
    "fig.show(\"notebook\")"
   ]
  },
  {
   "cell_type": "markdown",
   "metadata": {},
   "source": [
    "## Pan genome gene occupancy\n",
    "The occupancy of a gene is defined as the number of samples in which it is present. A gene with \"full\" occupancy (i.e. present in all pan genome samples) is called a core gene, while a gene present in only one sample is called a singleton. All other genes are called shell genes."
   ]
  },
  {
   "cell_type": "code",
   "execution_count": null,
   "metadata": {},
   "outputs": [],
   "source": [
    "fig = px.histogram(occupancy_df, x=\"occupancy\", color=\"category\", nbins=n_samples)\n",
    "fig.update_layout(title_text=\"Histogram of pan genome occupancy\", yaxis_title=\"# genes\")\n",
    "fig.show()"
   ]
  },
  {
   "cell_type": "markdown",
   "metadata": {},
   "source": [
    "## Pan genome composition\n",
    "The overall composition of the pan genome is shown either by occupancy category or by reference cs. non-reference genes."
   ]
  },
  {
   "cell_type": "code",
   "execution_count": null,
   "metadata": {},
   "outputs": [],
   "source": [
    "fig = px.pie(occup_cat, names=occup_cat.index, values=\"genes\", title=\"Pan genome composition - occupancy categories\")\n",
    "fig.show()"
   ]
  },
  {
   "cell_type": "code",
   "execution_count": null,
   "metadata": {},
   "outputs": [],
   "source": [
    "fig = px.pie(ref_or_not_cat, names=ref_or_not_cat.index, values=\"genes\", title=\"Pan genome composition - reference vs. non-reference\")\n",
    "fig.show()"
   ]
  },
  {
   "cell_type": "markdown",
   "metadata": {},
   "source": [
    "## Per-sample composition\n",
    "The plot below shows the composition of each sample in the pan genome in terms of occupancy categories and reference/non-reference."
   ]
  },
  {
   "cell_type": "code",
   "execution_count": null,
   "metadata": {},
   "outputs": [],
   "source": [
    "def gene_cat(col):\n",
    "    present = pd.DataFrame(col[col == 1])\n",
    "    present = present.join(occupancy_df).join(ref_or_not)\n",
    "    occup_cat = present.groupby(\"category\").count()\n",
    "    core = 0; shell = 0; singletons = 0\n",
    "    if \"Core\" in occup_cat.index:\n",
    "        core = occup_cat.loc[\"Core\"][\"occupancy\"]\n",
    "    if \"Shell\" in occup_cat.index:\n",
    "        shell = occup_cat.loc[\"Shell\"][\"occupancy\"]\n",
    "    if \"Singleton\" in occup_cat.index:\n",
    "        singletons = occup_cat.loc[\"Singleton\"][\"occupancy\"]\n",
    "    type_cat = present.groupby(\"Type\").count()\n",
    "    ref = 0; non_ref = 0\n",
    "    if \"Reference\" in type_cat.index:\n",
    "        ref = type_cat.loc[\"Reference\"][\"occupancy\"]\n",
    "    if \"Non-reference\" in type_cat.index:\n",
    "        non_ref = type_cat.loc[\"Non-reference\"][\"occupancy\"]   \n",
    "    return pd.Series([core, shell, singletons, ref, non_ref])\n",
    "    \n",
    "per_sample_composition = pav_df.apply(axis=0, func=gene_cat).transpose()\n",
    "per_sample_composition.columns = [\"Core\",\"Shell\",\"Singleton\",\"Reference\",\"Non-reference\"]"
   ]
  },
  {
   "cell_type": "code",
   "execution_count": null,
   "metadata": {},
   "outputs": [],
   "source": [
    "fig = go.Figure(\n",
    "    data = [\n",
    "        go.Bar(x=per_sample_composition.index,\n",
    "              y=per_sample_composition[\"Core\"],\n",
    "              name=\"Core\",\n",
    "              offsetgroup=0),\n",
    "        go.Bar(x=per_sample_composition.index,\n",
    "              y=per_sample_composition[\"Shell\"],\n",
    "              name=\"Shell\",\n",
    "              offsetgroup=0,\n",
    "              base=per_sample_composition[\"Core\"]\n",
    "              ),\n",
    "        go.Bar(x=per_sample_composition.index,\n",
    "              y=per_sample_composition[\"Singleton\"],\n",
    "              name=\"Singleton\",\n",
    "              offsetgroup=0,\n",
    "               base=per_sample_composition[\"Shell\"] + per_sample_composition[\"Core\"]\n",
    "              ),\n",
    "        go.Bar(x=per_sample_composition.index,\n",
    "              y=per_sample_composition[\"Reference\"],\n",
    "              name=\"Reference\",\n",
    "              offsetgroup=1\n",
    "              ),\n",
    "        go.Bar(x=per_sample_composition.index,\n",
    "              y=per_sample_composition[\"Non-reference\"],\n",
    "              name=\"Non-reference\",\n",
    "              offsetgroup=1,\n",
    "               base=per_sample_composition[\"Reference\"]\n",
    "              ),\n",
    "    ],\n",
    "    layout=go.Layout(title=\"Per-sample composition\",\n",
    "                    yaxis_title=\"# genes\")\n",
    ")\n",
    "fig.show()"
   ]
  },
  {
   "cell_type": "markdown",
   "metadata": {},
   "source": [
    "## Pairwise similarity between samples\n",
    "Each pair of samples in the pan genome are compared in terms of gene presence/absence, and a similarity score is calculated as the number of genes on which the two samples agree (either presence or absence)."
   ]
  },
  {
   "cell_type": "code",
   "execution_count": null,
   "metadata": {},
   "outputs": [],
   "source": [
    "def compare(col):\n",
    "    tot = len(col)\n",
    "    sim = []\n",
    "    for sample in pav_df.columns:\n",
    "        sim.append((col == pav_df[sample]).sum()/tot)\n",
    "    return pd.Series(sim)\n",
    "\n",
    "pairwise_sim = pav_df.apply(axis=0, func=compare)\n",
    "pairwise_sim.index = pairwise_sim.columns"
   ]
  },
  {
   "cell_type": "code",
   "execution_count": null,
   "metadata": {},
   "outputs": [],
   "source": [
    "g = sns.clustermap(pairwise_sim, annot=True, cmap=\"YlGnBu\")"
   ]
  },
  {
   "cell_type": "markdown",
   "metadata": {},
   "source": [
    "## Pan proteome stats\n",
    "Histograms of protein lengths according to occupancy categories"
   ]
  },
  {
   "cell_type": "code",
   "execution_count": null,
   "metadata": {},
   "outputs": [],
   "source": [
    "prot_lens = {rec.id: [len(rec.seq)] for rec in SeqIO.parse(proteins_fasta, 'fasta')}\n",
    "prot_lens_df = pd.DataFrame.from_dict(prot_lens, orient='index')\n",
    "prot_lens_df.columns = [\"protein_length\"]\n",
    "prot_lens_df = prot_lens_df.join(occupancy_df, how=\"inner\")"
   ]
  },
  {
   "cell_type": "code",
   "execution_count": null,
   "metadata": {},
   "outputs": [],
   "source": [
    "core = prot_lens_df.loc[prot_lens_df[\"category\"] == \"Core\"][\"protein_length\"]\n",
    "shell = prot_lens_df.loc[prot_lens_df[\"category\"] == \"Shell\"][\"protein_length\"]\n",
    "singleton = prot_lens_df.loc[prot_lens_df[\"category\"] == \"Singleton\"][\"protein_length\"]\n",
    "\n",
    "hist_data = [core, shell, singleton]\n",
    "group_labels = [\"Core\", \"Shell\", \"Singleton\"]\n",
    "\n",
    "fig = ff.create_distplot(hist_data, group_labels, show_hist=False, show_rug=False)\n",
    "fig.update_layout(xaxis_title_text=\"Protein length\", yaxis_title_text=\"Density\", title=\"Histogram of protein length\")\n",
    "fig.show()"
   ]
  },
  {
   "cell_type": "markdown",
   "metadata": {},
   "source": [
    "## Assembly stats"
   ]
  },
  {
   "cell_type": "code",
   "execution_count": null,
   "metadata": {},
   "outputs": [],
   "source": [
    "assembly_stats_df = pd.read_csv(assembly_stats_tsv, sep='\\t', index_col=0)\n",
    "assembly_stats_df.index.name = \"Sample\"\n",
    "assembly_stats_df[\"% gaps\"] = assembly_stats_df[\"# N's per 100 kbp\"]/1000\n",
    "display_cols = OrderedDict({\"Avg. coverage depth\": \"Sequecing depth (x)\",\n",
    "                            \"Read length (bp)\": \"Read length (bp)\",\n",
    "                            \"Total length\": \"Assembly size\",\n",
    "                            \"# contigs (>= 0 bp)\": \"# of contigs\",\n",
    "                            \"N50\": \"N50\", \"N75\": \"N75\",                           \n",
    "                            \"% gaps\": \"% gaps\",\n",
    "                            \"% Complete BUSCOs\": \"% Complete BUSCOs\"})\n",
    "if \"% unmapped (Chr0)\" in assembly_stats_df.columns:\n",
    "    display_cols[\"% unmapped (Chr0)\"] = \"% unmapped (Chr0)\"\n",
    "display_cols[\"QUAST report\"] = \"QUAST report\"\n",
    "assembly_stats_df = assembly_stats_df[display_cols.keys()]\n",
    "assembly_stats_df.rename(columns=display_cols, inplace=True)\n",
    "assembly_stats_df['Read length (bp)'] = assembly_stats_df['Read length (bp)'].apply(str)\n",
    "def make_clickable(url):\n",
    "    name= os.path.basename(url)\n",
    "    return '<a href=\"{}\">{}</a>'.format(url,name)\n",
    "\n",
    "assembly_stats_df.style.format({'QUAST report': make_clickable})"
   ]
  },
  {
   "cell_type": "code",
   "execution_count": null,
   "metadata": {},
   "outputs": [],
   "source": [
    "fig = px.scatter(assembly_stats_df, x=\"Sequecing depth (x)\", y=\"Assembly size\",\n",
    "                hover_data=[assembly_stats_df.index,\"Sequecing depth (x)\",\"Assembly size\"],\n",
    "                color = \"Read length (bp)\", title=\"Sequencing depth vs. assembly size\")\n",
    "regline = sm.OLS(assembly_stats_df['Assembly size'],\n",
    "                 sm.add_constant(assembly_stats_df['Sequecing depth (x)'])).fit().fittedvalues\n",
    "fig.add_traces(go.Scatter(x=assembly_stats_df['Sequecing depth (x)'], y=regline, mode = 'lines',\n",
    "                          marker_color='black', name='Trendline')\n",
    "                          )\n",
    "fig.show()"
   ]
  },
  {
   "cell_type": "code",
   "execution_count": null,
   "metadata": {},
   "outputs": [],
   "source": [
    "fig = px.scatter(assembly_stats_df, x=\"Sequecing depth (x)\", y=\"N50\",\n",
    "                hover_data=[assembly_stats_df.index,\"Sequecing depth (x)\",\"N50\"],\n",
    "                color = \"Read length (bp)\", title=\"Sequencing depth vs. N50\")\n",
    "regline = sm.OLS(assembly_stats_df['N50'],\n",
    "                 sm.add_constant(assembly_stats_df['Sequecing depth (x)'])).fit().fittedvalues\n",
    "fig.add_traces(go.Scatter(x=assembly_stats_df['Sequecing depth (x)'], y=regline, mode = 'lines',\n",
    "                          marker_color='black', name='Trendline')\n",
    "                          )\n",
    "fig.show()"
   ]
  }
 ],
 "metadata": {
  "kernelspec": {
   "display_name": "Python 3",
   "language": "python",
   "name": "python3"
  },
  "language_info": {
   "codemirror_mode": {
    "name": "ipython",
    "version": 3
   },
   "file_extension": ".py",
   "mimetype": "text/x-python",
   "name": "python",
   "nbconvert_exporter": "python",
   "pygments_lexer": "ipython3",
   "version": "3.7.7"
  }
 },
 "nbformat": 4,
 "nbformat_minor": 4
}
